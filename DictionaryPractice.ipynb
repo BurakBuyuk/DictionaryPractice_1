{
 "cells": [
  {
   "cell_type": "code",
   "execution_count": 28,
   "id": "98b7d1ef-d0ba-4028-8615-a8719849f25a",
   "metadata": {},
   "outputs": [],
   "source": [
    "# CREATE DİCTİONARY"
   ]
  },
  {
   "cell_type": "code",
   "execution_count": 1,
   "id": "ca77b9d3-af5d-4d42-b790-fa4645f5e540",
   "metadata": {},
   "outputs": [],
   "source": [
    "empty_dic = {}"
   ]
  },
  {
   "cell_type": "code",
   "execution_count": 7,
   "id": "d6838853-5e70-476a-9b51-5b9b496245fa",
   "metadata": {},
   "outputs": [],
   "source": [
    "# Anahtar-değer çiftleri ile dictionary tanımlama\n",
    "student = {\n",
    "    \"name\" : \"Burak\",\n",
    "    \"age\" : 22,\n",
    "    \"points\" : [85, 95, 100]\n",
    "}"
   ]
  },
  {
   "cell_type": "code",
   "execution_count": 13,
   "id": "b3651af7-0595-439f-aafd-393f9858b836",
   "metadata": {},
   "outputs": [
    {
     "data": {
      "text/plain": [
       "{'name': 'Burak', 'age': 22, 'points': [85, 95, 100]}"
      ]
     },
     "execution_count": 13,
     "metadata": {},
     "output_type": "execute_result"
    }
   ],
   "source": [
    "student"
   ]
  },
  {
   "cell_type": "code",
   "execution_count": 9,
   "id": "26339ab2-b237-4e75-820e-52e511a4a357",
   "metadata": {},
   "outputs": [],
   "source": [
    "# dict() fonksiyonu ile tanımlama\n",
    "worker = dict(name = \"Ali\", pozition = \"Engineer\", age = 30)"
   ]
  },
  {
   "cell_type": "code",
   "execution_count": 11,
   "id": "ac55e09c-b5ea-4773-bf6f-cd5ac559c5ba",
   "metadata": {},
   "outputs": [
    {
     "data": {
      "text/plain": [
       "{'name': 'Ali', 'pozition': 'Engineer', 'age': 30}"
      ]
     },
     "execution_count": 11,
     "metadata": {},
     "output_type": "execute_result"
    }
   ],
   "source": [
    "worker"
   ]
  },
  {
   "cell_type": "code",
   "execution_count": 30,
   "id": "09b500f2-faf2-4c0c-8e63-791b0a99dd25",
   "metadata": {},
   "outputs": [],
   "source": [
    "# ADD"
   ]
  },
  {
   "cell_type": "code",
   "execution_count": 16,
   "id": "5facb4cf-edb2-438f-afff-5e123cacc122",
   "metadata": {},
   "outputs": [],
   "source": [
    "# Yeni anahtar-değer çifti ekleme\n",
    "student[\"department\"] = \"MIS\""
   ]
  },
  {
   "cell_type": "code",
   "execution_count": 32,
   "id": "5c9135eb-f127-4bed-8149-525cef8f17c4",
   "metadata": {},
   "outputs": [],
   "source": [
    "# UPDATE"
   ]
  },
  {
   "cell_type": "code",
   "execution_count": 47,
   "id": "232ebc86-a559-4b21-8c57-2ed93794fd02",
   "metadata": {},
   "outputs": [],
   "source": [
    "# Mevcut bir anahtarın değerini güncelleme\n",
    "student[\"yas\"] = 23"
   ]
  },
  {
   "cell_type": "code",
   "execution_count": 49,
   "id": "e3359bee-b41a-405c-89db-78ece34ad56a",
   "metadata": {},
   "outputs": [
    {
     "data": {
      "text/plain": [
       "{'name': 'Burak',\n",
       " 'age': 23,\n",
       " 'points': [85, 95, 100],\n",
       " 'department': 'MIS',\n",
       " 'yas': 23}"
      ]
     },
     "execution_count": 49,
     "metadata": {},
     "output_type": "execute_result"
    }
   ],
   "source": [
    "student"
   ]
  },
  {
   "cell_type": "code",
   "execution_count": 38,
   "id": "e9b9141f-8318-4dc0-b45b-cc79b5fcef15",
   "metadata": {},
   "outputs": [],
   "source": [
    "# DEL"
   ]
  },
  {
   "cell_type": "code",
   "execution_count": 53,
   "id": "3a4dd5cd-ac9c-4dc6-95a3-d931f61520be",
   "metadata": {},
   "outputs": [],
   "source": [
    "# Anahtarı ve değerini silme\n",
    "del student[\"yas\"]"
   ]
  },
  {
   "cell_type": "code",
   "execution_count": 59,
   "id": "1d5a812a-b88e-4b56-b620-707246e8430c",
   "metadata": {},
   "outputs": [
    {
     "ename": "KeyError",
     "evalue": "'age'",
     "output_type": "error",
     "traceback": [
      "\u001b[1;31m---------------------------------------------------------------------------\u001b[0m",
      "\u001b[1;31mKeyError\u001b[0m                                  Traceback (most recent call last)",
      "Cell \u001b[1;32mIn[59], line 2\u001b[0m\n\u001b[0;32m      1\u001b[0m \u001b[38;5;66;03m# pop() metodu ile silme\u001b[39;00m\n\u001b[1;32m----> 2\u001b[0m bolum \u001b[38;5;241m=\u001b[39m student\u001b[38;5;241m.\u001b[39mpop(\u001b[38;5;124m\"\u001b[39m\u001b[38;5;124mage\u001b[39m\u001b[38;5;124m\"\u001b[39m)\n\u001b[0;32m      3\u001b[0m student\n",
      "\u001b[1;31mKeyError\u001b[0m: 'age'"
     ]
    }
   ],
   "source": [
    "# pop() metodu ile silme\n",
    "bolum = student.pop(\"age\")\n"
   ]
  },
  {
   "cell_type": "code",
   "execution_count": 61,
   "id": "2b241728-3f1c-43f0-aa85-d204491e4dbe",
   "metadata": {},
   "outputs": [
    {
     "data": {
      "text/plain": [
       "{'name': 'Burak', 'points': [85, 95, 100], 'department': 'MIS'}"
      ]
     },
     "execution_count": 61,
     "metadata": {},
     "output_type": "execute_result"
    }
   ],
   "source": [
    "student"
   ]
  },
  {
   "cell_type": "code",
   "execution_count": null,
   "id": "c7247671-1009-4b85-94cb-01ca68c2d153",
   "metadata": {},
   "outputs": [],
   "source": [
    "# Navigating Inside"
   ]
  },
  {
   "cell_type": "code",
   "execution_count": 63,
   "id": "85584f15-5536-427c-bd7a-6db6d660f1b4",
   "metadata": {},
   "outputs": [
    {
     "name": "stdout",
     "output_type": "stream",
     "text": [
      "name\n",
      "points\n",
      "department\n"
     ]
    }
   ],
   "source": [
    "# Sadece anahtarlar üzerinde gezinti\n",
    "for key in student:\n",
    "    print(key)"
   ]
  },
  {
   "cell_type": "code",
   "execution_count": 67,
   "id": "1bd8b373-e83f-4cdc-a303-82fed9a23ef3",
   "metadata": {},
   "outputs": [
    {
     "name": "stdout",
     "output_type": "stream",
     "text": [
      "Anahtar: name, Değer: Burak\n",
      "Anahtar: points, Değer: [85, 95, 100]\n",
      "Anahtar: department, Değer: MIS\n"
     ]
    }
   ],
   "source": [
    "# Anahtar ve değer çiftleri üzerinde gezinti\n",
    "for key, value in student.items():\n",
    "    print(f\"Anahtar: {key}, Değer: {value}\")"
   ]
  },
  {
   "cell_type": "code",
   "execution_count": null,
   "id": "06cfcf8a-3da1-4aec-beec-a0115b90a937",
   "metadata": {},
   "outputs": [],
   "source": [
    "'''\n",
    "1.SORU\n",
    "Kişisel Bilgi Depolama:\n",
    "Aşağıdaki kisi_bilgisi sözlüğünü kullanarak isim ve email anahtarlarına karşılık \n",
    "gelen değerleri ekrana yazdırın.\n",
    "'''"
   ]
  },
  {
   "cell_type": "code",
   "execution_count": 71,
   "id": "56460f6e-dd9f-473e-9d92-478322d49767",
   "metadata": {},
   "outputs": [],
   "source": [
    "kisi_bilgisi = {\n",
    "    \"isim\" : \"Ahmet Yılmaz\",\n",
    "    \"yas\" : 28,\n",
    "    \"email\" : \"ahmet.yilmaz@example.com\",\n",
    "    \"meslek\" : \"Veri Analisti\"\n",
    "}"
   ]
  },
  {
   "cell_type": "code",
   "execution_count": 79,
   "id": "707be611-19fd-4517-a5dc-7668337c2a7e",
   "metadata": {},
   "outputs": [
    {
     "name": "stdout",
     "output_type": "stream",
     "text": [
      "İsim : Ahmet Yılmaz\n",
      "Email : ahmet.yilmaz@example.com\n"
     ]
    }
   ],
   "source": [
    "print(\"İsim :\",kisi_bilgisi[\"isim\"])\n",
    "print(\"Email :\",kisi_bilgisi[\"email\"])"
   ]
  },
  {
   "cell_type": "code",
   "execution_count": null,
   "id": "7ba94442-9285-48fd-97e4-675521eb7fcd",
   "metadata": {},
   "outputs": [],
   "source": [
    "'''\n",
    "2.SORU\n",
    "Telefon Rehberi Uygulaması:\n",
    "\n",
    "Aşağıda verilen telefon_rehberi sözlüğünde, Ali isimli kişiyi silin ve güncellenmiş \n",
    "rehberi ekrana yazdırın.\n",
    "'''"
   ]
  },
  {
   "cell_type": "code",
   "execution_count": 81,
   "id": "17994730-f8eb-41ba-9ef1-05d9afbf8e34",
   "metadata": {},
   "outputs": [],
   "source": [
    "telefon_rehberi = {\n",
    "    \"Ali\": \"0555-123-4567\",\n",
    "    \"Ayşe\": \"0534-765-4321\",\n",
    "    \"Mehmet\": \"0505-987-6543\"\n",
    "}"
   ]
  },
  {
   "cell_type": "code",
   "execution_count": 83,
   "id": "09f31881-da4c-4bb8-a31a-759d5a9ff4bb",
   "metadata": {},
   "outputs": [],
   "source": [
    "del telefon_rehberi[\"Ali\"]"
   ]
  },
  {
   "cell_type": "code",
   "execution_count": 85,
   "id": "c1a337b9-93f4-456e-89a5-a8d0dd27a7e7",
   "metadata": {},
   "outputs": [
    {
     "data": {
      "text/plain": [
       "{'Ayşe': '0534-765-4321', 'Mehmet': '0505-987-6543'}"
      ]
     },
     "execution_count": 85,
     "metadata": {},
     "output_type": "execute_result"
    }
   ],
   "source": [
    "telefon_rehberi"
   ]
  },
  {
   "cell_type": "code",
   "execution_count": 87,
   "id": "0fb75e09-bacf-47c5-bec6-5fc2ec1f5151",
   "metadata": {},
   "outputs": [
    {
     "data": {
      "text/plain": [
       "'\\nÜrün Stok Takibi:\\n\\nAşağıdaki stok sözlüğünde portakal anahtarına karşılık gelen değeri 100 olarak güncelleyin. Eğer portakal anahtarı yoksa, sözlüğe ekleyin.\\npython\\nKodu kopyala\\nstok = {\"elma\": 50, \"muz\": 30, \"çilek\": 40}\\n'"
      ]
     },
     "execution_count": 87,
     "metadata": {},
     "output_type": "execute_result"
    }
   ],
   "source": [
    "'''\n",
    "3.SORU\n",
    "Ürün Stok Takibi:\n",
    "Aşağıdaki stok sözlüğünde portakal anahtarına karşılık gelen değeri 100 olarak güncelleyin.\n",
    "Eğer portakal anahtarı yoksa, sözlüğe ekleyin.\n",
    "'''"
   ]
  },
  {
   "cell_type": "code",
   "execution_count": 89,
   "id": "91f505e3-6989-427a-8ed8-fdac41b45bf2",
   "metadata": {},
   "outputs": [],
   "source": [
    "stok = {\"elma\": 50, \"muz\": 30, \"çilek\": 40}"
   ]
  },
  {
   "cell_type": "code",
   "execution_count": 91,
   "id": "f6867265-f7c4-4ae7-8a2b-08d0b73796d4",
   "metadata": {},
   "outputs": [],
   "source": [
    "stok[\"portakal\"] : 100 "
   ]
  },
  {
   "cell_type": "code",
   "execution_count": 93,
   "id": "88ec838f-8109-47ad-9c64-e635d4eaae05",
   "metadata": {},
   "outputs": [
    {
     "data": {
      "text/plain": [
       "{'elma': 50, 'muz': 30, 'çilek': 40}"
      ]
     },
     "execution_count": 93,
     "metadata": {},
     "output_type": "execute_result"
    }
   ],
   "source": [
    "stok"
   ]
  },
  {
   "cell_type": "code",
   "execution_count": null,
   "id": "b62a3f16-6383-4257-8667-a7c34215de3f",
   "metadata": {},
   "outputs": [],
   "source": [
    "'''\n",
    "4.SORU\n",
    "Öğrenci Not Sistemi:\n",
    "Aşağıdaki ogrenciler sözlüğünde Ahmet'in matematik notunu ekrana yazdırın.\n",
    "'''"
   ]
  },
  {
   "cell_type": "code",
   "execution_count": 95,
   "id": "2773404b-c9d0-428b-b6f6-793d115c3075",
   "metadata": {},
   "outputs": [],
   "source": [
    "ogrenciler = {\n",
    "    \"Ahmet\": {\"matematik\": 90, \"fizik\": 85},\n",
    "    \"Ayşe\": {\"matematik\": 78, \"kimya\": 88},\n",
    "    \"Mehmet\": {\"fizik\": 92, \"biyoloji\": 80}\n",
    "}"
   ]
  },
  {
   "cell_type": "code",
   "execution_count": 99,
   "id": "2ba300b1-4d14-4c21-9e8a-db2b0b920466",
   "metadata": {},
   "outputs": [
    {
     "data": {
      "text/plain": [
       "90"
      ]
     },
     "execution_count": 99,
     "metadata": {},
     "output_type": "execute_result"
    }
   ],
   "source": [
    "ogrenciler[\"Ahmet\"][\"matematik\"]"
   ]
  },
  {
   "cell_type": "code",
   "execution_count": null,
   "id": "a20707e6-f140-445e-b1b2-7ecddf5b0456",
   "metadata": {},
   "outputs": [],
   "source": [
    "'''\n",
    "5.SORU\n",
    "Kargo Teslimat Takibi:\n",
    "\n",
    "Aşağıdaki kargolar sözlüğünde TR1234 kodlu kargonun durum bilgisini \"Teslim Edildi\" \n",
    "olarak güncelleyin.\n",
    "'''"
   ]
  },
  {
   "cell_type": "code",
   "execution_count": 103,
   "id": "78f8bc9e-cb72-4f23-8aa8-84b0a40333de",
   "metadata": {},
   "outputs": [],
   "source": [
    "kargolar = {\n",
    "    \"TR1234\": {\"alici\": \"Zeynep Kara\", \"durum\": \"Yolda\"},\n",
    "    \"TR5678\": {\"alici\": \"Ali Veli\", \"durum\": \"Depoda\"}\n",
    "}"
   ]
  },
  {
   "cell_type": "code",
   "execution_count": 107,
   "id": "80b8da01-97ae-446d-9171-30b4ad421877",
   "metadata": {},
   "outputs": [],
   "source": [
    "kargolar[\"TR1234\"][\"durum\"]  = \"Teslim Edildi\""
   ]
  },
  {
   "cell_type": "code",
   "execution_count": 109,
   "id": "f9a431e1-987c-4bff-bf54-29c3f7e62608",
   "metadata": {},
   "outputs": [
    {
     "data": {
      "text/plain": [
       "{'TR1234': {'alici': 'Zeynep Kara', 'durum': 'Teslim Edildi'},\n",
       " 'TR5678': {'alici': 'Ali Veli', 'durum': 'Depoda'}}"
      ]
     },
     "execution_count": 109,
     "metadata": {},
     "output_type": "execute_result"
    }
   ],
   "source": [
    "kargolar"
   ]
  },
  {
   "cell_type": "code",
   "execution_count": 113,
   "id": "924a518c-7869-42cc-aa03-ba813b046821",
   "metadata": {},
   "outputs": [
    {
     "data": {
      "text/plain": [
       "'\\n6.SORU\\nFilm İzleme Listesi:\\n\\nAşağıdaki filmler sözlüğünde The Matrix filmine IMDB puanını 8.7 olarak ekleyin.\\n\\n'"
      ]
     },
     "execution_count": 113,
     "metadata": {},
     "output_type": "execute_result"
    }
   ],
   "source": [
    "'''\n",
    "6.SORU\n",
    "Film İzleme Listesi:\n",
    "\n",
    "Aşağıdaki filmler sözlüğünde The Matrix filmine IMDB puanını 8.7 olarak ekleyin.\n",
    "\n",
    "'''"
   ]
  },
  {
   "cell_type": "code",
   "execution_count": 117,
   "id": "276f8a7d-2586-4b2c-990a-e8b85313424f",
   "metadata": {},
   "outputs": [],
   "source": [
    "filmler = {\n",
    "    \"Inception\": {\"yil\": 2010, \"yonetmen\": \"Christopher Nolan\"},\n",
    "    \"Interstellar\": {\"yil\": 2014, \"yonetmen\": \"Christopher Nolan\"}\n",
    "}"
   ]
  },
  {
   "cell_type": "code",
   "execution_count": 119,
   "id": "2871667c-830b-41f9-adb8-ed8a50b279e6",
   "metadata": {},
   "outputs": [],
   "source": [
    "filmler[\"The Matrix\"] = {\"yil\": 1999, \"yonetmen\": \"Wachowski Kardeşler\", \"IMDB\": 8.7}"
   ]
  },
  {
   "cell_type": "code",
   "execution_count": 121,
   "id": "59b3aa97-e97e-4f7b-be39-a3ee55df668a",
   "metadata": {},
   "outputs": [
    {
     "data": {
      "text/plain": [
       "{'Inception': {'yil': 2010, 'yonetmen': 'Christopher Nolan'},\n",
       " 'Interstellar': {'yil': 2014, 'yonetmen': 'Christopher Nolan'},\n",
       " 'The Matrix': {'yil': 1999, 'yonetmen': 'Wachowski Kardeşler', 'IMDB': 8.7}}"
      ]
     },
     "execution_count": 121,
     "metadata": {},
     "output_type": "execute_result"
    }
   ],
   "source": [
    "filmler"
   ]
  },
  {
   "cell_type": "code",
   "execution_count": null,
   "id": "58b9a9a0-dc67-4671-b051-253ef655dfab",
   "metadata": {},
   "outputs": [],
   "source": [
    "'''\n",
    "7.SORU\n",
    "Çalışan Bilgileri:\n",
    "\n",
    "Aşağıdaki calisanlar sözlüğünde Selin çalışanının pozisyon bilgisine Yazılım Geliştirici \n",
    "değerini ekleyin ve güncellenmiş sözlüğü ekrana yazdırın.\n",
    "\n",
    "'''"
   ]
  },
  {
   "cell_type": "code",
   "execution_count": 125,
   "id": "b4bbc6fe-adb4-4284-af3e-8c53072e2564",
   "metadata": {},
   "outputs": [],
   "source": [
    "calisanlar = {\n",
    "    \"Ahmet\": {\"yas\": 34, \"departman\": \"Pazarlama\"},\n",
    "    \"Selin\": {\"yas\": 28, \"departman\": \"IT\"}\n",
    "}"
   ]
  },
  {
   "cell_type": "code",
   "execution_count": 129,
   "id": "d7d0eb72-8624-4fd7-9cf6-12e7342b78d9",
   "metadata": {},
   "outputs": [],
   "source": [
    "calisanlar[\"Selin\"][\"IT\"] = \"Yazılım Geliştirici\""
   ]
  },
  {
   "cell_type": "code",
   "execution_count": 131,
   "id": "bd6cceab-27bc-45cd-9df4-2135b77c7b14",
   "metadata": {},
   "outputs": [
    {
     "data": {
      "text/plain": [
       "{'Ahmet': {'yas': 34, 'departman': 'Pazarlama'},\n",
       " 'Selin': {'yas': 28, 'departman': 'IT', 'IT': 'Yazılım Geliştirici'}}"
      ]
     },
     "execution_count": 131,
     "metadata": {},
     "output_type": "execute_result"
    }
   ],
   "source": [
    "calisanlar"
   ]
  },
  {
   "cell_type": "code",
   "execution_count": null,
   "id": "ee8f477c-79ba-46e6-a8bb-570d02bccf7b",
   "metadata": {},
   "outputs": [],
   "source": [
    "'''\n",
    "8.SORU\n",
    "Müşteri Alışveriş Kayıtları:\n",
    "Aşağıdaki musteri_satis sözlüğünde, Ayşe müşterisinin toplam_harcanan miktarını \n",
    "ekrana yazdırın.Eğer Ayşe anahtarı yoksa \"Kayıt bulunamadı\" yazdırın.\n",
    "'''"
   ]
  },
  {
   "cell_type": "code",
   "execution_count": 133,
   "id": "721361ab-f43a-425b-a557-88c1e8923b88",
   "metadata": {},
   "outputs": [],
   "source": [
    "musteri_satis = {\n",
    "    \"Ahmet\": {\"urun_sayisi\": 10, \"toplam_harcanan\": 500},\n",
    "    \"Mehmet\": {\"urun_sayisi\": 5, \"toplam_harcanan\": 250}\n",
    "}"
   ]
  },
  {
   "cell_type": "code",
   "execution_count": 149,
   "id": "419101a7-0f14-443a-9341-81b6a28829eb",
   "metadata": {},
   "outputs": [
    {
     "name": "stdout",
     "output_type": "stream",
     "text": [
      "Kayıt bulunamadı\n"
     ]
    }
   ],
   "source": [
    "if \"Ayşe\" in musteri_satis:  \n",
    "    musteri_satis[\"Ayşe\"][\"toplam_harcanan\"]\n",
    "else:\n",
    "    print(\"Kayıt bulunamadı\")"
   ]
  },
  {
   "cell_type": "code",
   "execution_count": 135,
   "id": "18f7bde1-7743-495d-ada4-acd08b1f0226",
   "metadata": {},
   "outputs": [
    {
     "ename": "SyntaxError",
     "evalue": "incomplete input (3857640367.py, line 1)",
     "output_type": "error",
     "traceback": [
      "\u001b[1;36m  Cell \u001b[1;32mIn[135], line 1\u001b[1;36m\u001b[0m\n\u001b[1;33m    '''\u001b[0m\n\u001b[1;37m    ^\u001b[0m\n\u001b[1;31mSyntaxError\u001b[0m\u001b[1;31m:\u001b[0m incomplete input\n"
     ]
    }
   ],
   "source": [
    "'''\n",
    "9.SORU\n",
    "Kütüphane Kitap Kayıtları:\n",
    "Aşağıdaki kutuphane sözlüğünde Dune kitabının yazar \n",
    "bilgisini Frank Herbert olarak güncelleyin.\n",
    "}\n",
    "'''"
   ]
  },
  {
   "cell_type": "code",
   "execution_count": 139,
   "id": "245a4a20-b7d5-42ad-aca9-5e7ccd0e005d",
   "metadata": {},
   "outputs": [],
   "source": [
    "kutuphane = {\n",
    "    \"Dune\": {\"yayin_yili\": 1965, \"yazar\": \"Bilinmiyor\"},\n",
    "    \"1984\": {\"yayin_yili\": 1949, \"yazar\": \"George Orwell\"}\n",
    "}"
   ]
  },
  {
   "cell_type": "code",
   "execution_count": 151,
   "id": "183c392f-beb2-4918-9b80-f997cb49355a",
   "metadata": {},
   "outputs": [],
   "source": [
    "kutuphane[\"Dune\"][\"yazar\"] = \"Frank Herbert\""
   ]
  },
  {
   "cell_type": "code",
   "execution_count": 153,
   "id": "ef3601da-2860-4136-9893-e6597e4ed123",
   "metadata": {},
   "outputs": [
    {
     "data": {
      "text/plain": [
       "{'Dune': {'yayin_yili': 1965, 'yazar': 'Frank Herbert'},\n",
       " '1984': {'yayin_yili': 1949, 'yazar': 'George Orwell'}}"
      ]
     },
     "execution_count": 153,
     "metadata": {},
     "output_type": "execute_result"
    }
   ],
   "source": [
    "kutuphane"
   ]
  },
  {
   "cell_type": "code",
   "execution_count": null,
   "id": "62b87d97-291a-4fdc-bda4-740a55eda22c",
   "metadata": {},
   "outputs": [],
   "source": [
    "'''\n",
    "10.SORU\n",
    "Şirket Finansal Kayıtları:\n",
    "Aşağıdaki finans sözlüğünde 2024 yılı için net_kar değerini 1.5 milyon olarak ekleyin \n",
    "ve sözlüğü ekrana yazdırın.\n",
    "'''"
   ]
  },
  {
   "cell_type": "code",
   "execution_count": 155,
   "id": "639e944b-e407-4a93-ae1c-4cdcc08d601d",
   "metadata": {},
   "outputs": [],
   "source": [
    "finans = {\n",
    "    \"2022\": {\"gelir\": \"2 milyon\", \"gider\": \"1.2 milyon\", \"net_kar\": \"800 bin\"},\n",
    "    \"2023\": {\"gelir\": \"2.5 milyon\", \"gider\": \"1.8 milyon\", \"net_kar\": \"700 bin\"}\n",
    "}"
   ]
  },
  {
   "cell_type": "code",
   "execution_count": null,
   "id": "baee8b97-bcef-416c-83b6-15e05ed87d21",
   "metadata": {},
   "outputs": [],
   "source": [
    "finans[\"2024\"][\"1.5 mil\"]"
   ]
  }
 ],
 "metadata": {
  "kernelspec": {
   "display_name": "Python 3 (ipykernel)",
   "language": "python",
   "name": "python3"
  },
  "language_info": {
   "codemirror_mode": {
    "name": "ipython",
    "version": 3
   },
   "file_extension": ".py",
   "mimetype": "text/x-python",
   "name": "python",
   "nbconvert_exporter": "python",
   "pygments_lexer": "ipython3",
   "version": "3.12.4"
  }
 },
 "nbformat": 4,
 "nbformat_minor": 5
}
